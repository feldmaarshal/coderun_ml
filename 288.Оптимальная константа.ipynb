{
 "cells": [
  {
   "cell_type": "code",
   "execution_count": 5,
   "id": "b2fda4f3",
   "metadata": {},
   "outputs": [],
   "source": [
    "import numpy as np"
   ]
  },
  {
   "cell_type": "code",
   "execution_count": 6,
   "id": "d9114ba5",
   "metadata": {},
   "outputs": [],
   "source": [
    "general = [5, 6, 4, 3, 5, 3]"
   ]
  },
  {
   "cell_type": "code",
   "execution_count": 7,
   "id": "fc5a0a04",
   "metadata": {},
   "outputs": [],
   "source": [
    "n = general[0]\n",
    "arr = general[1:]"
   ]
  },
  {
   "cell_type": "code",
   "execution_count": 32,
   "id": "ba4408c0",
   "metadata": {},
   "outputs": [],
   "source": [
    "def weighted_median(data, weights):\n",
    "    \"\"\"\n",
    "    Находит взвешенную медиану для данных с учетом их весов.\n",
    "    :param data: Массив или список значений.\n",
    "    :param weights: Соответствующие веса для этих значений.\n",
    "    :return: Взвешенная медиана.\n",
    "    \"\"\"\n",
    "    data, weights = map(np.array, (data, weights))  # Преобразование в numpy массивы\n",
    "    sorted_indices = np.argsort(data)  # Сортировка индексов по значениям\n",
    "    data, weights = data[sorted_indices], weights[sorted_indices]  # Переупорядочивание данных и весов\n",
    "    cum_weights = np.cumsum(weights)  # Накопленная сумма весов\n",
    "    cutoff = cum_weights[-1] / 2.0  # Половина суммы всех весов\n",
    "\n",
    "    # Нахождение взвешенной медианы\n",
    "    median_idx = np.where(cum_weights >= cutoff)[0][0] \n",
    "    median = data[median_idx]\n",
    "\n",
    "    return median"
   ]
  },
  {
   "cell_type": "code",
   "execution_count": 33,
   "id": "bb76ea19",
   "metadata": {},
   "outputs": [
    {
     "name": "stdout",
     "output_type": "stream",
     "text": [
      "4.2\n",
      "4.0\n",
      "3\n"
     ]
    }
   ],
   "source": [
    "arr = np.array(arr)\n",
    "weights = 1 / arr\n",
    "weights = weights/sum(weights)\n",
    "\n",
    "print(np.mean(arr))\n",
    "print(np.median(arr))\n",
    "if len(arr) == 1:\n",
    "    print(np.median(arr))\n",
    "else:\n",
    "    print(weighted_median(arr,weights))\n"
   ]
  },
  {
   "cell_type": "code",
   "execution_count": 34,
   "id": "8f88fdf3",
   "metadata": {},
   "outputs": [],
   "source": [
    "data, weights = map(np.array, (arr, weights)) "
   ]
  },
  {
   "cell_type": "code",
   "execution_count": 35,
   "id": "9c51041c",
   "metadata": {},
   "outputs": [
    {
     "data": {
      "text/plain": [
       "array([6, 4, 3, 5, 3])"
      ]
     },
     "execution_count": 35,
     "metadata": {},
     "output_type": "execute_result"
    }
   ],
   "source": [
    "data"
   ]
  },
  {
   "cell_type": "code",
   "execution_count": 36,
   "id": "4b5699d4",
   "metadata": {},
   "outputs": [
    {
     "data": {
      "text/plain": [
       "array([0.12987013, 0.19480519, 0.25974026, 0.15584416, 0.25974026])"
      ]
     },
     "execution_count": 36,
     "metadata": {},
     "output_type": "execute_result"
    }
   ],
   "source": [
    "weights"
   ]
  },
  {
   "cell_type": "code",
   "execution_count": null,
   "id": "d8941148",
   "metadata": {},
   "outputs": [],
   "source": []
  }
 ],
 "metadata": {
  "kernelspec": {
   "display_name": "Python 3 (ipykernel)",
   "language": "python",
   "name": "python3"
  },
  "language_info": {
   "codemirror_mode": {
    "name": "ipython",
    "version": 3
   },
   "file_extension": ".py",
   "mimetype": "text/x-python",
   "name": "python",
   "nbconvert_exporter": "python",
   "pygments_lexer": "ipython3",
   "version": "3.10.9"
  }
 },
 "nbformat": 4,
 "nbformat_minor": 5
}
